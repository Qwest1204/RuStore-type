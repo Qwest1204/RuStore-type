{
 "cells": [
  {
   "cell_type": "code",
   "id": "initial_id",
   "metadata": {
    "collapsed": true,
    "ExecuteTime": {
     "end_time": "2025-09-29T19:51:53.745199Z",
     "start_time": "2025-09-29T19:51:36.795905Z"
    }
   },
   "source": [
    "from functools import total_ordering\n",
    "\n",
    "import pandas as pd\n",
    "from model.embedding import embedded"
   ],
   "outputs": [
    {
     "name": "stderr",
     "output_type": "stream",
     "text": [
      "/Users/daniilogorodnikov/PycharmProjects/RuStore-type/venv/lib/python3.13/site-packages/tqdm/auto.py:21: TqdmWarning: IProgress not found. Please update jupyter and ipywidgets. See https://ipywidgets.readthedocs.io/en/stable/user_install.html\n",
      "  from .autonotebook import tqdm as notebook_tqdm\n",
      "/Users/daniilogorodnikov/.cache/huggingface/modules/transformers_modules/nomic-ai/nomic-bert-2048/7710840340a098cfb869c4f65e87cf2b1b70caca/modeling_hf_nomic_bert.py:1634: UserWarning: Install Nomic's megablocks fork for better speed: `pip install git+https://github.com/nomic-ai/megablocks.git`\n",
      "  warnings.warn(\"Install Nomic's megablocks fork for better speed: \" +\n"
     ]
    }
   ],
   "execution_count": 1
  },
  {
   "metadata": {
    "ExecuteTime": {
     "end_time": "2025-09-29T19:51:55.655278Z",
     "start_time": "2025-09-29T19:51:53.867395Z"
    }
   },
   "cell_type": "code",
   "source": "train = pd.read_csv(\"data/train.tsv\", sep='\\t').dropna()",
   "id": "5dd98083103cd6ed",
   "outputs": [],
   "execution_count": 2
  },
  {
   "metadata": {
    "ExecuteTime": {
     "end_time": "2025-09-29T19:52:29.372914Z",
     "start_time": "2025-09-29T19:52:29.366458Z"
    }
   },
   "cell_type": "code",
   "source": [
    "from data.dataset import RuStoreDataset\n",
    "from torch.utils.data import DataLoader"
   ],
   "id": "13709ca28f1fef18",
   "outputs": [],
   "execution_count": 5
  },
  {
   "metadata": {
    "ExecuteTime": {
     "end_time": "2025-09-29T19:52:29.868807Z",
     "start_time": "2025-09-29T19:52:29.702503Z"
    }
   },
   "cell_type": "code",
   "source": "dataset = RuStoreDataset(train)",
   "id": "5eb5923bb48990f1",
   "outputs": [],
   "execution_count": 6
  },
  {
   "metadata": {
    "ExecuteTime": {
     "end_time": "2025-09-29T19:52:38.140454Z",
     "start_time": "2025-09-29T19:52:38.129307Z"
    }
   },
   "cell_type": "code",
   "source": "loader = DataLoader(dataset, batch_size=2, shuffle=True)",
   "id": "2f7dbff61049fe59",
   "outputs": [],
   "execution_count": 7
  },
  {
   "metadata": {
    "ExecuteTime": {
     "end_time": "2025-09-29T19:52:45.496794Z",
     "start_time": "2025-09-29T19:52:42.492291Z"
    }
   },
   "cell_type": "code",
   "source": "x = next(iter(loader))",
   "id": "e4bbbf91473f7c7c",
   "outputs": [],
   "execution_count": 8
  },
  {
   "metadata": {
    "ExecuteTime": {
     "end_time": "2025-09-29T19:52:56.545883Z",
     "start_time": "2025-09-29T19:52:56.529245Z"
    }
   },
   "cell_type": "code",
   "source": "x[1].shape",
   "id": "84e9f90a1bcdc744",
   "outputs": [
    {
     "data": {
      "text/plain": [
       "torch.Size([2])"
      ]
     },
     "execution_count": 11,
     "metadata": {},
     "output_type": "execute_result"
    }
   ],
   "execution_count": 11
  },
  {
   "metadata": {},
   "cell_type": "code",
   "outputs": [],
   "execution_count": null,
   "source": "",
   "id": "bdc8ecf58d60563b"
  }
 ],
 "metadata": {
  "kernelspec": {
   "display_name": "Python 3",
   "language": "python",
   "name": "python3"
  },
  "language_info": {
   "codemirror_mode": {
    "name": "ipython",
    "version": 2
   },
   "file_extension": ".py",
   "mimetype": "text/x-python",
   "name": "python",
   "nbconvert_exporter": "python",
   "pygments_lexer": "ipython2",
   "version": "2.7.6"
  }
 },
 "nbformat": 4,
 "nbformat_minor": 5
}
